{
 "cells": [
  {
   "cell_type": "code",
   "execution_count": 3,
   "id": "ca7RO9bUvjCF",
   "metadata": {
    "colab": {
     "base_uri": "https://localhost:8080/"
    },
    "executionInfo": {
     "elapsed": 283,
     "status": "ok",
     "timestamp": 1733954531101,
     "user": {
      "displayName": "Cathy V",
      "userId": "00379111358150357952"
     },
     "user_tz": -60
    },
    "id": "ca7RO9bUvjCF",
    "outputId": "4bf8e971-8534-4705-c7c0-6c8786c3e71d"
   },
   "outputs": [
    {
     "name": "stdout",
     "output_type": "stream",
     "text": [
      "Python 3.11.0\n"
     ]
    }
   ],
   "source": [
    "!python --version"
   ]
  },
  {
   "cell_type": "code",
   "execution_count": 1,
   "id": "cbf135fe-7b03-4cf9-b41b-0d2a5218a2a3",
   "metadata": {
    "colab": {
     "base_uri": "https://localhost:8080/",
     "height": 385
    },
    "executionInfo": {
     "elapsed": 731,
     "status": "error",
     "timestamp": 1733954486930,
     "user": {
      "displayName": "Cathy V",
      "userId": "00379111358150357952"
     },
     "user_tz": -60
    },
    "id": "cbf135fe-7b03-4cf9-b41b-0d2a5218a2a3",
    "outputId": "2c65b234-1fad-48ef-9bfe-decdcbf18f82"
   },
   "outputs": [],
   "source": [
    "import brian2 as b2\n",
    "from brian2 import *\n",
    "import matplotlib.pyplot as plt\n",
    "\n"
   ]
  },
  {
   "cell_type": "code",
   "execution_count": 2,
   "id": "fc7335fb-7ebf-490d-a73e-633827e90ee9",
   "metadata": {
    "id": "fc7335fb-7ebf-490d-a73e-633827e90ee9"
   },
   "outputs": [],
   "source": [
    "# TODO: Make weights always non-negative!\n",
    "\n",
    "# Parameters for neurons\n",
    "Cm = 281 * pF  # Membrane capacitance\n",
    "gL = 30 * nS   # Leak conductance\n",
    "EL = -70.6 * mV  # Leak reversal potential\n",
    "Vth = -50.4 * mV  # Spike threshold\n",
    "DeltaT = 2 * mV  # Slope factor\n",
    "Vr = -70.6 * mV  # Reset potential\n",
    "Vcut = -40 * mV  # Cutoff potential for spike generation\n",
    "tau_A = 1 * ms  # Adaptation time constant\n",
    "c = 4 * nS       # Coupling parameter\n",
    "b = 0.0805 * nA  # Spike-triggered adaptation increment\n",
    "\n",
    "# Parameters for synapses\n",
    "tau_rise = 5 * ms  # Rise time constant for AMPA\n",
    "tau_decay = 50 * ms  # Decay time constant for NMDA\n",
    "w_init = 0.5 * nS   # Initial synaptic weight (conductance)\n",
    "\n",
    "# AdEx neuron equations\n",
    "eqs = '''\n",
    "dv/dt = ( -gL * (v - EL) + gL * DeltaT * exp((v - Vth) / DeltaT) + I - A ) / Cm : volt\n",
    "dA/dt = (c * (v - EL) - A) / tau_A : amp\n",
    "\n",
    "I : amp  # Input current\n",
    "'''\n",
    "\n",
    "# Synapse equations (Spike trace dynamics)\n",
    "syn_eqs_exc = '''\n",
    "dX/dt = -X / tau_decay + Y / tau_rise : volt   # Spike trace\n",
    "dY/dt = -Y / tau_decay : volt  # Glutamate decay\n",
    "w : siemens  # Synaptic weight (conductance)\n",
    "I_post = w * X : amp (summed)\n",
    "'''\n",
    "# Isyn_exc = w * X * (v_post - EL) : amp \n",
    "syn_eqs_inh = '''\n",
    "dX/dt = -X / tau_decay + Y / tau_rise : volt  # Spike trace\n",
    "dY/dt = -Y / tau_decay : volt  # Glutamate decay\n",
    "w : siemens  # Synaptic weight (conductance)\n",
    "I_post = w * X : amp (summed)\n",
    "'''\n",
    "\n",
    "\n"
   ]
  },
  {
   "cell_type": "code",
   "execution_count": 3,
   "id": "YMpn-lHvzuY7",
   "metadata": {
    "colab": {
     "base_uri": "https://localhost:8080/",
     "height": 179
    },
    "id": "YMpn-lHvzuY7",
    "outputId": "6ad0ee74-9bc1-4ffa-9cbf-2d02fa8c9444"
   },
   "outputs": [
    {
     "name": "stderr",
     "output_type": "stream",
     "text": [
      "INFO       The synaptic equation for the variable X does not specify whether it should be integrated at every timestep ('clock-driven') or only at spiking events ('event-driven'). It will be integrated at every timestep which can slow down your simulation unnecessarily if you only need the values of this variable whenever a spike occurs. Specify the equation as clock-driven explicitly to avoid this warning. [brian2.synapses.synapses.clock_driven]\n",
      "INFO       The synaptic equation for the variable Y does not specify whether it should be integrated at every timestep ('clock-driven') or only at spiking events ('event-driven'). It will be integrated at every timestep which can slow down your simulation unnecessarily if you only need the values of this variable whenever a spike occurs. Specify the equation as clock-driven explicitly to avoid this warning. [brian2.synapses.synapses.clock_driven]\n",
      "cl : warning della riga di comando D9025 : override di '/W3' con '/w'\n",
      "WARNING    Cannot use Cython, a test compilation failed: command 'C:\\\\Program Files (x86)\\\\Microsoft Visual Studio 14.0\\\\VC\\\\BIN\\\\x86_amd64\\\\link.exe' failed with exit code 1158 (LinkError) [brian2.codegen.runtime.cython_rt.cython_rt.failed_compile_test]\n",
      "INFO       Cannot use compiled code, falling back to the numpy code generation target. Note that this will likely be slower than using compiled code. Set the code generation to numpy manually to avoid this message:\n",
      "prefs.codegen.target = \"numpy\" [brian2.devices.device.codegen_fallback]\n"
     ]
    },
    {
     "name": "stdout",
     "output_type": "stream",
     "text": [
      "_cython_magic_32a1cdc0f6fb3e035c7e07036edf98c2.cpp\n",
      "_cython_magic_32a1cdc0f6fb3e035c7e07036edf98c2.obj : warning LNK4197: esportazione 'PyInit__cython_magic_32a1cdc0f6fb3e035c7e07036edf98c2' specificata più volte; verrà utilizzata la prima specifica\n",
      "   Creazione della libreria C:\\Users\\bruno\\.cython\\brian_extensions\\Users\\bruno\\.cython\\brian_extensions\\_cython_magic_32a1cdc0f6fb3e035c7e07036edf98c2.cp311-win_amd64.lib e dell'oggetto C:\\Users\\bruno\\.cython\\brian_extensions\\Users\\bruno\\.cython\\brian_extensions\\_cython_magic_32a1cdc0f6fb3e035c7e07036edf98c2.cp311-win_amd64.exp\n",
      "Generazione codice in corso...\n",
      "Generazione codice terminata\n",
      "LINK : fatal error LNK1158: impossibile eseguire 'rc.exe'\n"
     ]
    },
    {
     "data": {
      "image/png": "[encoded data removed]",
      "text/plain": [
       "<Figure size 1200x600 with 1 Axes>"
      ]
     },
     "metadata": {},
     "output_type": "display_data"
    }
   ],
   "source": [
    "# Let's connect 2 groups as a trial\n",
    "\n",
    "G1 = NeuronGroup(5, 'v : volt', threshold='v > Vcut', reset='v = Vr', method='euler')  # Presynaptic neurons\n",
    "G2 = NeuronGroup(5, eqs, threshold='v > Vcut', reset='v = Vr; A += b', method='euler')  # Postsynaptic neurons\n",
    "\n",
    "# Initialize variables\n",
    "G1.v = EL\n",
    "G2.v = EL\n",
    "G2.A = 0 * nA\n",
    "\n",
    "# Create synapses\n",
    "S = Synapses(G1, G2, model=syn_eqs_exc,\n",
    "             on_pre='Y = 1*volt', method = \"euler\")  # Increment glutamate release on spike\n",
    "S.connect(p=0.1)  # Random connections\n",
    "S.w = 'rand() * w_init'  # Random initial weights\n",
    "\n",
    "# Monitors\n",
    "spike_mon_G1 = SpikeMonitor(G1)\n",
    "spike_mon_G2 = SpikeMonitor(G2)\n",
    "state_mon_G2 = StateMonitor(G2, ['v', 'I', 'A'], record=True)\n",
    "\n",
    "# Run simulation\n",
    "b2.run(500 * ms)\n",
    "\n",
    "plt.figure(figsize=(12, 6))\n",
    "\n",
    "# Plot membrane potential of a postsynaptic neuron\n",
    "plt.subplot(311)\n",
    "plt.plot(state_mon_G2.t / ms, state_mon_G2.v[0] / mV, label='Membrane potential (v)')\n",
    "plt.xlabel('Time (ms)')\n",
    "plt.ylabel('Voltage (mV)')\n",
    "plt.legend()\n",
    "\n",
    "\n",
    "plt.tight_layout()\n",
    "plt.show()"
   ]
  },
  {
   "cell_type": "code",
   "execution_count": 4,
   "id": "e4cda873-deff-49bb-87b2-c6f1a89fea8f",
   "metadata": {
    "id": "e4cda873-deff-49bb-87b2-c6f1a89fea8f"
   },
   "outputs": [],
   "source": [
    "# dims = [784,400,225,64]\n",
    "dims = [50,40,30,20]\n",
    "\n",
    "gist_dim = 16\n",
    "\n",
    "\n",
    "\n",
    "def make_groups(dims):\n",
    "\n",
    "  groups = []\n",
    "\n",
    "  for dim in dims:\n",
    "\n",
    "     groups.append(NeuronGroup(dim, eqs, threshold='v > Vcut', reset='v = Vr', method='euler'))\n",
    "\n",
    "  for group in groups:\n",
    "     group.v = EL\n",
    "\n",
    "\n",
    "  return groups"
   ]
  },
  {
   "cell_type": "code",
   "execution_count": 5,
   "id": "d269ecda-e7f6-45e1-af16-eed2575c8256",
   "metadata": {
    "id": "d269ecda-e7f6-45e1-af16-eed2575c8256"
   },
   "outputs": [],
   "source": [
    "Rs = make_groups(dims)\n",
    "Es_0 = make_groups(dims)\n",
    "Es_1 = make_groups(dims)"
   ]
  },
  {
   "cell_type": "code",
   "execution_count": 6,
   "id": "1632fe95-ea62-4a1c-b39d-200e31caea12",
   "metadata": {
    "id": "1632fe95-ea62-4a1c-b39d-200e31caea12"
   },
   "outputs": [],
   "source": [
    "def make_bottom_up_connections(Rs, Es_0, Es_1, syn_eqs_exc, syn_eqs_inh):\n",
    "\n",
    "\n",
    "  S_p = Synapses(Rs, Es_0, model=syn_eqs_exc,\n",
    "        on_pre='Y = 1')\n",
    "  S_p.connect(condition='i == j')  # One-to-one connections\n",
    "  S_p.w = 'w_init'\n",
    "\n",
    "\n",
    "  S_m = Synapses(Rs, Es_1, model=syn_eqs_inh,\n",
    "        on_pre='Y = 1*volt')\n",
    "  S_m.connect(condition='i == j')  # One-to-one connections\n",
    "  S_m.w = 'w_init'\n",
    "\n",
    "  return S_p, S_m"
   ]
  },
  {
   "cell_type": "code",
   "execution_count": 7,
   "id": "0f72b626-424a-40ab-a4b7-e553c56f7c4c",
   "metadata": {
    "id": "0f72b626-424a-40ab-a4b7-e553c56f7c4c"
   },
   "outputs": [],
   "source": [
    "S_p, S_m = make_bottom_up_connections(Rs[0], Es_0[0], Es_1[0], syn_eqs_exc, syn_eqs_inh)"
   ]
  },
  {
   "cell_type": "code",
   "execution_count": 8,
   "id": "lgB5lkb8fdCc",
   "metadata": {
    "id": "lgB5lkb8fdCc"
   },
   "outputs": [],
   "source": [
    "def make_top_down_connections(Rs, Es_0, Es_1, syn_eqs_exc, syn_eqs_inh):\n",
    "\n",
    "\n",
    "  S_p = Synapses(Rs, Es_1, model=syn_eqs_exc,\n",
    "        on_pre='Y = 1*volt')\n",
    "  S_p.connect()\n",
    "  S_p.w = 'rand() * w_init'\n",
    "\n",
    "\n",
    "  S_m = Synapses(Rs, Es_0, model=syn_eqs_inh,\n",
    "        on_pre='Y = 1*volt')\n",
    "  S_m.connect()\n",
    "  S_m.w = 'rand() * w_init'\n",
    "\n",
    "\n",
    "  return S_p, S_m"
   ]
  },
  {
   "cell_type": "code",
   "execution_count": 13,
   "id": "ZBCZOcD97VdQ",
   "metadata": {
    "id": "ZBCZOcD97VdQ"
   },
   "outputs": [],
   "source": [
    "def make_gist_connections(Rs, G):\n",
    "\n",
    "  S = Synapses(Rs[0], G, model=syn_eqs_exc,\n",
    "        on_pre='Y = 1*volt')\n",
    "  S.connect(p=0.05)  # Connect with 5% probability\n",
    "  S.w = 'rand() * w_init'   # This is slightly different from the paper: it should be based on a ratio\n",
    "\n",
    "  S_gist_input = S\n",
    "\n",
    "  for R in Rs[1:]:\n",
    "    S = Synapses(G, R, model=syn_eqs_exc,\n",
    "        on_pre='Y = 1*volt')\n",
    "    S.connect(p=0.05)  # Connect with 5% probability\n",
    "    S_gist_output = S\n",
    "\n",
    "  return S_gist_input, S_gist_output"
   ]
  },
  {
   "cell_type": "code",
   "execution_count": 14,
   "id": "yKTMede3Unyd",
   "metadata": {
    "id": "yKTMede3Unyd"
   },
   "outputs": [],
   "source": [
    "# num_classes_per_layer and max_depth depend on the same parameters used when generating the datset\n",
    "\n",
    "def make_output_layer(num_classes_per_layer, max_depth, w_out_init = None ):\n",
    "\n",
    "    if w_out_init == None:\n",
    "        w_out_init = w_init/10\n",
    "        \n",
    "        Os = []\n",
    "    for d in range(0, max_depth):\n",
    "        Os.append(NeuronGroup(N=num_classes_per_layer**(d), model = eqs, threshold='v > Vcut', reset='v = Vr', method='euler'))\n",
    "        \n",
    "    for d in range(1, max_depth):\n",
    "        if d>1:\n",
    "            S_o = Synapses(Os[d-1], Os[d], model=syn_eqs_exc,\n",
    "            on_pre='Y = 1*volt')\n",
    "            S_o.connect(condition='i < j/num_classes_per_layer')  # Hierarchical connections (hopefully)\n",
    "            S_o.w = 'w_out_init'\n",
    "\n",
    "    return Os, S_o\n",
    "\n",
    "\n",
    "\n"
   ]
  },
  {
   "cell_type": "code",
   "execution_count": 21,
   "id": "0HO2o7eGvf0C",
   "metadata": {
    "id": "0HO2o7eGvf0C"
   },
   "outputs": [],
   "source": [
    "\n",
    "def make_network(dims, syn_eqs_exc, syn_eqs_inh, num_classes_per_layer, max_depth, w_out_init = None ):\n",
    "    \n",
    "    Rs = make_groups(dims)\n",
    "    Es_0 = make_groups(dims)\n",
    "    Es_1 = make_groups(dims)\n",
    "    G = NeuronGroup(gist_dim, eqs, threshold='v > Vcut', reset='v = Vr', method='euler')\n",
    "    \n",
    "    Os, S_o_internal = make_output_layer(num_classes_per_layer, max_depth) # Hopefully this is correct\n",
    "    \n",
    "    connections = {}\n",
    "    connections[\"output_internal\"] = S_o_internal\n",
    "    \n",
    "    for i in range(len(Rs)):\n",
    "    \n",
    "    \n",
    "        S_p, S_m = make_bottom_up_connections(Rs[i], Es_0[i], Es_1[i], syn_eqs_exc, syn_eqs_inh)\n",
    "        \n",
    "        connections[f\"bottom_up_{i}\"] = [S_p, S_m]\n",
    "    \n",
    "    if i != len(Rs)-1:\n",
    "    \n",
    "        S_p, S_m = make_top_down_connections(Rs[i+1], Es_0[i], Es_1[i], syn_eqs_exc, syn_eqs_inh)\n",
    "        \n",
    "        connections[f\"top_down_{i}\"] = [S_p, S_m]\n",
    "    \n",
    "    S_gist_input, S_gist_output = make_gist_connections(Rs, G)\n",
    "    \n",
    "    connections[\"gist_input\"] = S_gist_input\n",
    "    connections[\"gist_output\"] = S_gist_output\n",
    "    \n",
    "    '''\n",
    "    S_o_external = Synapses(Rs[-1], Os, model=syn_eqs_exc,\n",
    "        on_pre='Y = 1*volt')\n",
    "    S_o_external.connect()\n",
    "    S_o_external.w = 'rand() * w_init'\n",
    "    '''\n",
    "    S_o_external = []\n",
    "    for O in Os:\n",
    "        S = Synapses(Rs[-1], O, model=syn_eqs_exc, on_pre='Y = 1*volt')\n",
    "        S.connect()\n",
    "        S.w = 'rand() * w_init'\n",
    "        S_o_external.append(S)\n",
    "    connections[\"output_external\"] = S_o_external\n",
    "\n",
    "\n",
    "    return Rs, Es_0, Es_1, G, Os, connections\n",
    "\n",
    "\n"
   ]
  },
  {
   "cell_type": "code",
   "execution_count": 22,
   "id": "b7RMzCeNyhmX",
   "metadata": {
    "colab": {
     "base_uri": "https://localhost:8080/",
     "height": 146
    },
    "id": "b7RMzCeNyhmX",
    "outputId": "32113096-c8a8-4d2a-ba7b-a9b1e8bc1208"
   },
   "outputs": [],
   "source": [
    "connections = make_network(dims, syn_eqs_exc, syn_eqs_inh, num_classes_per_layer=3, max_depth=3)"
   ]
  },
  {
   "cell_type": "code",
   "execution_count": null,
   "id": "803b58f2-1f16-4906-87dc-97789ba96d0a",
   "metadata": {},
   "outputs": [],
   "source": []
  },
  {
   "cell_type": "code",
   "execution_count": 23,
   "id": "90ac9207-5632-4783-9f9c-16371f1c3c70",
   "metadata": {},
   "outputs": [
    {
     "ename": "ModuleNotFoundError",
     "evalue": "No module named 'torch'",
     "output_type": "error",
     "traceback": [
      "\u001b[1;31m---------------------------------------------------------------------------\u001b[0m",
      "\u001b[1;31mModuleNotFoundError\u001b[0m                       Traceback (most recent call last)",
      "Cell \u001b[1;32mIn[23], line 1\u001b[0m\n\u001b[1;32m----> 1\u001b[0m \u001b[38;5;28;01mfrom\u001b[39;00m \u001b[38;5;21;01mdataset_util\u001b[39;00m \u001b[38;5;28;01mimport\u001b[39;00m Synthetic_Dataset_Utils\n",
      "File \u001b[1;32m~\\OneDrive\\Desktop\\AI 2024-25\\Neuromorphic Computing\\Project\\github\\SerotoninSNN\\dataset_util.py:5\u001b[0m\n\u001b[0;32m      2\u001b[0m \u001b[38;5;28;01massert\u001b[39;00m IPython\u001b[38;5;241m.\u001b[39mversion_info[\u001b[38;5;241m0\u001b[39m] \u001b[38;5;241m>\u001b[39m\u001b[38;5;241m=\u001b[39m \u001b[38;5;241m3\u001b[39m, \u001b[38;5;124m\"\u001b[39m\u001b[38;5;124mYour version of IPython is too old, please update it to at least version 3.\u001b[39m\u001b[38;5;124m\"\u001b[39m\n\u001b[0;32m      4\u001b[0m \u001b[38;5;28;01mimport\u001b[39;00m \u001b[38;5;21;01mmath\u001b[39;00m\n\u001b[1;32m----> 5\u001b[0m \u001b[38;5;28;01mimport\u001b[39;00m \u001b[38;5;21;01mtorch\u001b[39;00m\n\u001b[0;32m      6\u001b[0m \u001b[38;5;28;01mimport\u001b[39;00m \u001b[38;5;21;01mnumpy\u001b[39;00m \u001b[38;5;28;01mas\u001b[39;00m \u001b[38;5;21;01mnp\u001b[39;00m\n\u001b[0;32m      7\u001b[0m \u001b[38;5;28;01mimport\u001b[39;00m \u001b[38;5;21;01mmatplotlib\u001b[39;00m\u001b[38;5;21;01m.\u001b[39;00m\u001b[38;5;21;01mpyplot\u001b[39;00m \u001b[38;5;28;01mas\u001b[39;00m \u001b[38;5;21;01mplt\u001b[39;00m\n",
      "\u001b[1;31mModuleNotFoundError\u001b[0m: No module named 'torch'"
     ]
    }
   ],
   "source": [
    "from dataset_util import Synthetic_Dataset_Utils"
   ]
  },
  {
   "cell_type": "code",
   "execution_count": null,
   "id": "72713cbc-a58f-43c8-a315-b09234827e70",
   "metadata": {},
   "outputs": [],
   "source": []
  },
  {
   "cell_type": "code",
   "execution_count": null,
   "id": "43499d14-9be5-40d0-81ef-d694a0f04b85",
   "metadata": {},
   "outputs": [],
   "source": []
  },
  {
   "cell_type": "code",
   "execution_count": null,
   "id": "e07a111a-9e5a-4163-9401-119a562111f1",
   "metadata": {},
   "outputs": [],
   "source": []
  },
  {
   "cell_type": "code",
   "execution_count": null,
   "id": "307510e9-6208-41a7-acda-429244f37ce9",
   "metadata": {},
   "outputs": [],
   "source": []
  },
  {
   "cell_type": "code",
   "execution_count": null,
   "id": "00c82f8c-5f15-48c8-a283-47b5a8697e20",
   "metadata": {},
   "outputs": [],
   "source": []
  },
  {
   "cell_type": "code",
   "execution_count": null,
   "id": "c8b8dc63-bd38-43a5-8457-181f8db32d63",
   "metadata": {},
   "outputs": [],
   "source": []
  },
  {
   "cell_type": "code",
   "execution_count": null,
   "id": "zkD5Zs72axi9",
   "metadata": {
    "id": "zkD5Zs72axi9"
   },
   "outputs": [],
   "source": [
    "def training_phase_1(network, dataset):\n",
    "\n",
    "  for curve, label in dataset:\n",
    "    ..."
   ]
  },
  {
   "cell_type": "code",
   "execution_count": null,
   "id": "lOfMXzfIaxdn",
   "metadata": {
    "id": "lOfMXzfIaxdn"
   },
   "outputs": [],
   "source": []
  },
  {
   "cell_type": "code",
   "execution_count": null,
   "id": "T9V1Ufi3axau",
   "metadata": {
    "id": "T9V1Ufi3axau"
   },
   "outputs": [],
   "source": []
  },
  {
   "cell_type": "code",
   "execution_count": null,
   "id": "jJZrHvJVaxXE",
   "metadata": {
    "id": "jJZrHvJVaxXE"
   },
   "outputs": [],
   "source": []
  },
  {
   "cell_type": "code",
   "execution_count": null,
   "id": "JUtGtvxAaxRO",
   "metadata": {
    "id": "JUtGtvxAaxRO"
   },
   "outputs": [],
   "source": []
  }
 ],
 "metadata": {
  "colab": {
   "provenance": []
  },
  "kernelspec": {
   "display_name": "neural_computation_kernel",
   "language": "python",
   "name": "neural_computation_kernel"
  },
  "language_info": {
   "codemirror_mode": {
    "name": "ipython",
    "version": 3
   },
   "file_extension": ".py",
   "mimetype": "text/x-python",
   "name": "python",
   "nbconvert_exporter": "python",
   "pygments_lexer": "ipython3",
   "version": "3.11.0"
  }
 },
 "nbformat": 4,
 "nbformat_minor": 5
}
